{
 "cells": [
  {
   "cell_type": "markdown",
   "metadata": {
    "slideshow": {
     "slide_type": "slide"
    }
   },
   "source": [
    "# Lattices of compatibly embedded finite fields in Nemo/Flint\n",
    "\n",
    "<center>Luca De Feo, Hugues Randriambololona, Édouard Rousseau</center>\n",
    "\n",
    "*Demonstrating the newly implemented lattices of compatibly embedded\n",
    "finite fields in Nemo.*\n",
    "\n",
    "\n",
    "<center> <img src=\"img/issac.png\"> </center>"
   ]
  },
  {
   "cell_type": "markdown",
   "metadata": {
    "slideshow": {
     "slide_type": "slide"
    }
   },
   "source": [
    "## <font color=\"blue\">Jupyter</font>\n",
    "\n",
    "* The slides are available as a *Jupyter Notebook* on *Binder* at [https://github.com/erou/Nemo-embeddings-demo](https://github.com/erou/Nemo-embeddings-demo)\n",
    "* Press `Alt + r` to enter/quit slide mode\n",
    "* every cells are interactive so you can **play around**"
   ]
  },
  {
   "cell_type": "code",
   "execution_count": null,
   "metadata": {
    "collapsed": true,
    "slideshow": {
     "slide_type": "fragment"
    }
   },
   "outputs": [],
   "source": [
    "2^12"
   ]
  },
  {
   "cell_type": "markdown",
   "metadata": {
    "slideshow": {
     "slide_type": "slide"
    }
   },
   "source": [
    "## <font color=\"blue\">Nemo and Flint</font>\n",
    "\n",
    "<center> <img src=\"img/julia.svg\"> </center>\n",
    "\n",
    "\n",
    "* [Nemo](http://nemocas.org/) is a computer algebra package for the [Julia](https://julialang.org/) programming language <font color=\"green\">[maintained by Hart, Hofmann, Fieker, Johansson, and others]</font>\n",
    "    * among many things, it includes a Flint wrapper\n",
    "* [Flint](http://flintlib.org/) is a number theory library for the C programming language <font color=\"green\">[maintained by William Hart]</font>"
   ]
  },
  {
   "cell_type": "markdown",
   "metadata": {
    "slideshow": {
     "slide_type": "subslide"
    }
   },
   "source": [
    "## <font color=\"blue\">Nemo and Flint</font>\n",
    "\n",
    "A quick taste of Julia:"
   ]
  },
  {
   "cell_type": "code",
   "execution_count": null,
   "metadata": {
    "collapsed": true,
    "slideshow": {
     "slide_type": "fragment"
    }
   },
   "outputs": [],
   "source": [
    "function foo(L)\n",
    "    m = L[1]    \n",
    "    for i in 2:length(L)\n",
    "        if m < L[i]\n",
    "            m = L[i]\n",
    "        end\n",
    "    end\n",
    "    return m\n",
    "end"
   ]
  },
  {
   "cell_type": "code",
   "execution_count": null,
   "metadata": {
    "collapsed": true,
    "slideshow": {
     "slide_type": "fragment"
    }
   },
   "outputs": [],
   "source": [
    "L = [2, 4, 1, 5, 7, 11, 17, 3]\n",
    "foo(L)"
   ]
  },
  {
   "cell_type": "markdown",
   "metadata": {
    "slideshow": {
     "slide_type": "subslide"
    }
   },
   "source": [
    "## <font color=\"blue\">Nemo and Flint</font>"
   ]
  },
  {
   "cell_type": "code",
   "execution_count": null,
   "metadata": {
    "collapsed": true,
    "slideshow": {
     "slide_type": "fragment"
    }
   },
   "outputs": [],
   "source": [
    "using Nemo"
   ]
  },
  {
   "cell_type": "markdown",
   "metadata": {
    "slideshow": {
     "slide_type": "fragment"
    }
   },
   "source": [
    "We can play with standard mathematical objects"
   ]
  },
  {
   "cell_type": "code",
   "execution_count": null,
   "metadata": {
    "collapsed": true,
    "slideshow": {
     "slide_type": "-"
    }
   },
   "outputs": [],
   "source": [
    "p = 13\n",
    "k, x = FiniteField(p, 4, \"x\")\n",
    "R, T = PolynomialRing(k, \"T\")\n",
    "P = rand(R, 3)"
   ]
  },
  {
   "cell_type": "markdown",
   "metadata": {
    "slideshow": {
     "slide_type": "slide"
    }
   },
   "source": [
    "## <font color=\"blue\">The embedding problem</font>\n",
    "*Example inspired by \"On the powers of 2\" <font color=\"green\">[Granger, Kleinjung, Zumbrägel '14]</font>.*\n",
    "\n",
    "Let $P$ be an irreducible polynomial in $\\mathbb F_{13^4}[T]$"
   ]
  },
  {
   "cell_type": "code",
   "execution_count": null,
   "metadata": {
    "collapsed": true,
    "slideshow": {
     "slide_type": "-"
    }
   },
   "outputs": [],
   "source": [
    "P = T^4+(8*x^3+6*x^2+12*x+2)*T^3+(8*x^3+3*x^2+2*x+2)*T^2+(2*x^3+5*x^2+7*x+12)*T+(3*x^3+4*x^2+6*x+5)\n",
    "factor(P)"
   ]
  },
  {
   "cell_type": "markdown",
   "metadata": {
    "slideshow": {
     "slide_type": "fragment"
    }
   },
   "source": [
    "We really want to factor it in degree $2$ factors in $\\mathbb F_{13^8}[U]$:"
   ]
  },
  {
   "cell_type": "code",
   "execution_count": null,
   "metadata": {
    "collapsed": true
   },
   "outputs": [],
   "source": [
    "K, y = FiniteField(p, 8, \"y\")\n",
    "S, U = PolynomialRing(K, \"U\")\n",
    "Q = S(P)\n",
    "factor(Q)"
   ]
  },
  {
   "cell_type": "markdown",
   "metadata": {
    "slideshow": {
     "slide_type": "subslide"
    }
   },
   "source": [
    "## <font color=\"blue\">The embedding problem</font>\n",
    "\n",
    "* $f$ irreducible polynomial of degree $m$ in $\\mathbb F_p[X]$\n",
    "* $g$ irreducible polynomial of degree $n$ in $\\mathbb F_p[Y]$\n",
    "* $m\\;|\\;n$\n",
    "* $E = \\mathbb F_p[X]/(f(X))$\n",
    "* $F = \\mathbb F_p[Y]/(g(Y))$\n",
    "\n",
    "<center> $E\\cong \\mathbb F_{p^m} \\hookrightarrow F\\cong \\mathbb F_{p^n}$ </center>\n",
    "\n",
    "* <font color=\"red\"> **Embedding problem:** </font> how to compute the embedding from $E$ to $F$ ?"
   ]
  },
  {
   "cell_type": "markdown",
   "metadata": {
    "slideshow": {
     "slide_type": "slide"
    }
   },
   "source": [
    "## <font color=\"blue\">Description and evaluation</font>\n",
    "\n",
    "<font color=\"green\">[Brieulle, De Feo, Doliskani, Flori, Schost '17]</font>\n",
    "\n",
    "**<font color=\"red\">Two steps:</font>**\n",
    "- <font color=#9966ff>Description:</font> find $\\alpha_1, \\alpha_2$ such that:\n",
    "    - $E = \\mathbb F_p(\\alpha_1)$\n",
    "    - *there exists* an embedding $\\phi:E\\to F$ mapping $\\alpha_1\\mapsto\\alpha_2$\n",
    "- <font color=#9966ff>Evaluation:</font> \n",
    "    - Compute $\\phi(\\gamma)\\in F$ for $\\gamma\\in E$\n",
    "    - Test if $\\delta\\in\\phi(E)$ for $\\delta\\in F$\n",
    "    - If $\\delta\\in\\phi(E)$, compute $\\phi^{-1}(\\delta)\\in E$    "
   ]
  },
  {
   "cell_type": "markdown",
   "metadata": {
    "slideshow": {
     "slide_type": "slide"
    }
   },
   "source": [
    "## <font color=\"blue\">Description - naive algorithm</font>\n",
    "\n",
    "**<font color=\"red\">Context:</font>**\n",
    "- $E = \\mathbb{F}_p[X]/(f)$\n",
    "- $F=\\mathbb{F}_p[Y]/(g)$\n",
    "\n",
    "**<font color=\"red\">Algorithm:</font>**\n",
    "- Find a root $\\rho$ of $f$ in $F$\n",
    "- $\\alpha_1 = \\overline X$\n",
    "- $\\alpha_2 = \\rho$\n",
    "\n",
    "**<font color=\"red\">Other algorithms exist:</font>**\n",
    "- <font color=\"green\">[Lenstra '91]</font>\n",
    "- <font color=\"green\">[Allombert '02]</font>\n",
    "- <font color=\"green\">[Rains '96]</font>\n",
    "- <font color=\"green\">[Narayanan '18]</font>"
   ]
  },
  {
   "cell_type": "markdown",
   "metadata": {
    "slideshow": {
     "slide_type": "subslide"
    }
   },
   "source": [
    "## <font color=\"blue\">Description - naive algorithm</font>\n",
    "\n",
    "Compute an embedding with `embed`."
   ]
  },
  {
   "cell_type": "code",
   "execution_count": null,
   "metadata": {
    "collapsed": true,
    "slideshow": {
     "slide_type": "-"
    }
   },
   "outputs": [],
   "source": [
    "E, x = FiniteField(13, 6, \"x\")\n",
    "F, y = FiniteField(13, 12, \"y\")\n",
    "ϕ = embed(E, F) "
   ]
  },
  {
   "cell_type": "markdown",
   "metadata": {
    "slideshow": {
     "slide_type": "fragment"
    }
   },
   "source": [
    "and evaluate it"
   ]
  },
  {
   "cell_type": "code",
   "execution_count": null,
   "metadata": {
    "collapsed": true,
    "slideshow": {
     "slide_type": "-"
    }
   },
   "outputs": [],
   "source": [
    "ϕ(x)"
   ]
  },
  {
   "cell_type": "markdown",
   "metadata": {
    "slideshow": {
     "slide_type": "slide"
    }
   },
   "source": [
    "## <font color=\"blue\">Some sanity checks</font>\n",
    "\n",
    "We can check that `ϕ` is indeed a morphism:"
   ]
  },
  {
   "cell_type": "code",
   "execution_count": null,
   "metadata": {
    "collapsed": true,
    "slideshow": {
     "slide_type": "-"
    }
   },
   "outputs": [],
   "source": [
    "a = rand(E)\n",
    "b = rand(E)\n",
    "ϕ(a^2 + b^7) == ϕ(a)^2 + ϕ(b)^7"
   ]
  },
  {
   "cell_type": "markdown",
   "metadata": {
    "slideshow": {
     "slide_type": "fragment"
    }
   },
   "source": [
    "and that the image of ϕ is in the subfield of $F$ with $13^6$ elements"
   ]
  },
  {
   "cell_type": "code",
   "execution_count": null,
   "metadata": {
    "collapsed": true
   },
   "outputs": [],
   "source": [
    "ϕ(a)^(13^6) == ϕ(a), ϕ(b)^(13^6) == ϕ(b)"
   ]
  },
  {
   "cell_type": "markdown",
   "metadata": {
    "slideshow": {
     "slide_type": "slide"
    }
   },
   "source": [
    "## <font color=\"blue\">The end ?</font>\n",
    "\n",
    "<center> <img src=\"img/end.png\"> </center>"
   ]
  },
  {
   "cell_type": "markdown",
   "metadata": {
    "slideshow": {
     "slide_type": "fragment"
    }
   },
   "source": [
    "# <center><font color=\"red\">No!</font></center>"
   ]
  },
  {
   "cell_type": "markdown",
   "metadata": {
    "slideshow": {
     "slide_type": "slide"
    }
   },
   "source": [
    "## <font color=\"blue\">The compatibility problem</font>\n",
    "\n",
    "Assume the user wants to use many extensions of $\\mathbb F_p$:\n",
    "\n",
    "<center> <img src=\"img/extensions.png\"> </center>"
   ]
  },
  {
   "cell_type": "markdown",
   "metadata": {
    "slideshow": {
     "slide_type": "subslide"
    }
   },
   "source": [
    "## <font color=\"blue\">The compatibility problem</font>\n",
    "\n",
    "**<font color=\"red\">Context:</font>**\n",
    "* $E$, $F$, $G$ fields\n",
    "* $E$ subfield of $F$ and $F$ subfield of $G$\n",
    "* $\\phi_{E\\hookrightarrow F}$, $\\phi_{F\\hookrightarrow G}$, $\\phi_{E\\hookrightarrow G}$ embeddings\n",
    "\n",
    "<center>\n",
    "<img src=\"img/compatibility.png\">\n",
    "<font color=\"red\">$\\phi_{F\\hookrightarrow G}\\circ\\phi_{E\\hookrightarrow F}\\overset{?}{=}\\phi_{E\\hookrightarrow G}$</font>\n",
    "</center>"
   ]
  },
  {
   "cell_type": "markdown",
   "metadata": {
    "slideshow": {
     "slide_type": "subslide"
    }
   },
   "source": [
    "## <font color=\"blue\">The compatibility problem</font>\n",
    "\n",
    "**<font color=\"red\">Solutions:</font>**\n",
    "\n",
    "- Conway polynomials <font color=\"green\">[Parker '90]</font>, <font color=\"green\">[Heath, Loehr '98]</font>\n",
    "    - used in Magma, Sage,  PARI, ...\n",
    "    - only practical with small finite fields\n",
    "- Bosma, Cannon and Steel framework <font color=\"green\">[Bosma, Cannon, Steel '97]</font>"
   ]
  },
  {
   "cell_type": "markdown",
   "metadata": {
    "slideshow": {
     "slide_type": "slide"
    }
   },
   "source": [
    "## <font color=\"blue\">Bosma, Cannon and Steel framework</font>\n",
    "\n",
    "- Allows to work with arbitrary, user-defined finite fields\n",
    "- Allows to build the embeddings in arbitrary order\n",
    "- Used in MAGMA\n",
    "- based on the naive algorithm"
   ]
  },
  {
   "cell_type": "markdown",
   "metadata": {
    "slideshow": {
     "slide_type": "subslide"
    }
   },
   "source": [
    "## <font color=\"blue\">Bosma, Cannon and Steel framework</font>\n",
    "<center> <img src=\"img/triangle.png\"> </center>\n",
    "\n",
    "- Consider $\\alpha$ such that $F=\\mathbb{F}_p(\\alpha)$\n",
    "- Take $\\rho$ a root of $\\phi_{E\\hookrightarrow G}(\\text{Minpoly}_E(\\alpha))$\n",
    "- Map $\\alpha\\mapsto\\rho$"
   ]
  },
  {
   "cell_type": "markdown",
   "metadata": {
    "slideshow": {
     "slide_type": "subslide"
    }
   },
   "source": [
    "## <font color=\"blue\">Bosma, Cannon and Steel framework</font>\n",
    "\n",
    "It works with multiple subfields!\n",
    "<center> <img src=\"img/triangles.png\"> </center>\n",
    "\n",
    "- Consider $\\alpha$ such that $F=\\mathbb{F}_p(\\alpha)$\n",
    "- Take $\\rho$ a root of $\\text{gcd}_i(\\phi_{E_i\\hookrightarrow G}(\\text{Minpoly}_{E_i}(\\alpha)))$\n",
    "- Map $\\alpha\\mapsto\\rho$"
   ]
  },
  {
   "cell_type": "markdown",
   "metadata": {
    "slideshow": {
     "slide_type": "subslide"
    }
   },
   "source": [
    "## <font color=\"blue\">The compatibility problem</font>\n",
    "\n",
    "We define some finite fields $E = \\mathbb F_{p^2}$, $F = \\mathbb F_{p^4}$ and $G = \\mathbb F_{p^8}$."
   ]
  },
  {
   "cell_type": "code",
   "execution_count": null,
   "metadata": {
    "collapsed": true,
    "slideshow": {
     "slide_type": "-"
    }
   },
   "outputs": [],
   "source": [
    "p = 5\n",
    "\n",
    "E, x2 = FiniteField(p, 2, \"x2\")\n",
    "F, x4 = FiniteField(p, 4, \"x4\")\n",
    "G, x8 = FiniteField(p, 8, \"x8\")"
   ]
  },
  {
   "cell_type": "markdown",
   "metadata": {
    "slideshow": {
     "slide_type": "fragment"
    }
   },
   "source": [
    "and we compute the embeddings $\\phi_{E\\hookrightarrow F}$, $\\phi_{F\\hookrightarrow G}$, $\\phi_{E\\hookrightarrow G}$"
   ]
  },
  {
   "cell_type": "code",
   "execution_count": null,
   "metadata": {
    "collapsed": true,
    "slideshow": {
     "slide_type": "-"
    }
   },
   "outputs": [],
   "source": [
    "ϕE_F = embed(E, F)\n",
    "ϕE_G = embed(E, G)\n",
    "ϕF_G = embed(F, G)"
   ]
  },
  {
   "cell_type": "markdown",
   "metadata": {
    "slideshow": {
     "slide_type": "subslide"
    }
   },
   "source": [
    "## <font color=\"blue\">The compatibility problem</font>\n",
    "\n",
    "**<font color=\"red\">Morphisms are compatible!</font>**"
   ]
  },
  {
   "cell_type": "code",
   "execution_count": null,
   "metadata": {
    "collapsed": true,
    "scrolled": true,
    "slideshow": {
     "slide_type": "-"
    }
   },
   "outputs": [],
   "source": [
    "a = rand(E)\n",
    "ϕE_G(a) == (ϕF_G ∘ ϕE_F)(a)"
   ]
  },
  {
   "cell_type": "markdown",
   "metadata": {
    "slideshow": {
     "slide_type": "slide"
    }
   },
   "source": [
    "## <font color=\"blue\">The compatibility problem II</font>\n",
    "\n",
    "<center><img src=\"img/compatibility2.png\">\n",
    "<font color=\"red\">$\\phi_{G\\hookrightarrow H}\\circ\\phi_{E\\hookrightarrow G}\\overset{?}{=}\\phi_{F\\hookrightarrow H}\\circ\\phi_{E\\hookrightarrow F}$</font>\n",
    "</center>"
   ]
  },
  {
   "cell_type": "markdown",
   "metadata": {
    "slideshow": {
     "slide_type": "subslide"
    }
   },
   "source": [
    "## <font color=\"blue\">The compatibility problem II</font>\n",
    "\n",
    "We create new finite fields"
   ]
  },
  {
   "cell_type": "code",
   "execution_count": null,
   "metadata": {
    "collapsed": true,
    "slideshow": {
     "slide_type": "-"
    }
   },
   "outputs": [],
   "source": [
    "G, x6 = FiniteField(p, 6, \"x6\")\n",
    "H, x12 = FiniteField(p, 12, \"x12\")"
   ]
  },
  {
   "cell_type": "markdown",
   "metadata": {
    "slideshow": {
     "slide_type": "fragment"
    }
   },
   "source": [
    "and embeddings between them"
   ]
  },
  {
   "cell_type": "code",
   "execution_count": null,
   "metadata": {
    "collapsed": true,
    "slideshow": {
     "slide_type": "-"
    }
   },
   "outputs": [],
   "source": [
    "ϕE_G = embed(E, G)\n",
    "ϕF_H = embed(F, H)\n",
    "ϕG_H = embed(G, H)"
   ]
  },
  {
   "cell_type": "markdown",
   "metadata": {
    "slideshow": {
     "slide_type": "subslide"
    }
   },
   "source": [
    "## <font color=\"blue\">The compatibility problem II</font>\n",
    "\n",
    "\n",
    "**<font color=\"red\">Morphisms are still compatible!</font>**"
   ]
  },
  {
   "cell_type": "code",
   "execution_count": null,
   "metadata": {
    "collapsed": true,
    "slideshow": {
     "slide_type": "-"
    }
   },
   "outputs": [],
   "source": [
    "a = rand(E)\n",
    "(ϕG_H ∘ ϕE_G)(a) == (ϕF_H ∘ ϕE_F)(a)"
   ]
  },
  {
   "cell_type": "markdown",
   "metadata": {
    "slideshow": {
     "slide_type": "slide"
    }
   },
   "source": [
    "## <font color=\"blue\">Implicit conversion</font>\n",
    "\n",
    "We do not need to explicitly call ``embed``. Standard object oriented conversion also works."
   ]
  },
  {
   "cell_type": "code",
   "execution_count": null,
   "metadata": {
    "collapsed": true,
    "slideshow": {
     "slide_type": "-"
    }
   },
   "outputs": [],
   "source": [
    "k3, x3 = FiniteField(p, 3, \"x3\")\n",
    "k24, x24 = FiniteField(p, 24, \"x24\")"
   ]
  },
  {
   "cell_type": "code",
   "execution_count": null,
   "metadata": {
    "collapsed": true,
    "slideshow": {
     "slide_type": "-"
    }
   },
   "outputs": [],
   "source": [
    "z = k24(x3)"
   ]
  },
  {
   "cell_type": "code",
   "execution_count": null,
   "metadata": {
    "collapsed": true,
    "slideshow": {
     "slide_type": "-"
    }
   },
   "outputs": [],
   "source": [
    "z^(p^3) == z"
   ]
  },
  {
   "cell_type": "code",
   "execution_count": null,
   "metadata": {
    "collapsed": true
   },
   "outputs": [],
   "source": [
    "k3(z)"
   ]
  },
  {
   "cell_type": "markdown",
   "metadata": {
    "slideshow": {
     "slide_type": "slide"
    }
   },
   "source": [
    "## <font color=\"blue\">Sections</font>\n",
    "\n",
    "We can also compute sections of morphisms."
   ]
  },
  {
   "cell_type": "code",
   "execution_count": null,
   "metadata": {
    "collapsed": true
   },
   "outputs": [],
   "source": [
    "k7, x7 = FiniteField(p, 7, \"x7\")\n",
    "k21, x21 = FiniteField(p, 21, \"x21\")"
   ]
  },
  {
   "cell_type": "code",
   "execution_count": null,
   "metadata": {
    "collapsed": true
   },
   "outputs": [],
   "source": [
    "f7_21 = embed(k7, k21)"
   ]
  },
  {
   "cell_type": "code",
   "execution_count": null,
   "metadata": {
    "collapsed": true
   },
   "outputs": [],
   "source": [
    "s21_7 = section(f7_21)"
   ]
  },
  {
   "cell_type": "markdown",
   "metadata": {
    "slideshow": {
     "slide_type": "subslide"
    }
   },
   "source": [
    "## <font color=\"blue\">Sections</font>\n",
    "\n",
    "Sections give the preimage of an element if it is in the codomain of the embedding"
   ]
  },
  {
   "cell_type": "code",
   "execution_count": null,
   "metadata": {
    "collapsed": true,
    "slideshow": {
     "slide_type": "-"
    }
   },
   "outputs": [],
   "source": [
    "a = rand(k7)  \n",
    "(s21_7 ∘ f7_21)(a) == a"
   ]
  },
  {
   "cell_type": "markdown",
   "metadata": {
    "slideshow": {
     "slide_type": "fragment"
    }
   },
   "source": [
    "And throw an error otherwise"
   ]
  },
  {
   "cell_type": "code",
   "execution_count": null,
   "metadata": {
    "collapsed": true
   },
   "outputs": [],
   "source": [
    "s21_7(x21)"
   ]
  },
  {
   "cell_type": "markdown",
   "metadata": {
    "slideshow": {
     "slide_type": "subslide"
    }
   },
   "source": [
    "## <font color=\"blue\">Sections</font>\n",
    "\n",
    "\n",
    "This can also be called implicitly"
   ]
  },
  {
   "cell_type": "code",
   "execution_count": null,
   "metadata": {
    "collapsed": true,
    "slideshow": {
     "slide_type": "-"
    }
   },
   "outputs": [],
   "source": [
    "k7(k21(x7))"
   ]
  },
  {
   "cell_type": "code",
   "execution_count": null,
   "metadata": {
    "collapsed": true
   },
   "outputs": [],
   "source": [
    "k7(x21)"
   ]
  },
  {
   "cell_type": "markdown",
   "metadata": {
    "slideshow": {
     "slide_type": "slide"
    }
   },
   "source": [
    "## <font color=\"blue\">Behind the scenes</font>\n",
    "\n",
    "- root finding is done by *Flint* (in C)\n",
    "- minimal polynomials are computed by *Nemo* (in Julia)\n",
    "- additionnal requirements of Bosma, Cannon and Steel framework are done in *Nemo*\n",
    "- (almost) all the time is spent in *root finding*\n",
    "- embedding evaluation is done via *matrix-vector multiplication*"
   ]
  },
  {
   "cell_type": "markdown",
   "metadata": {
    "slideshow": {
     "slide_type": "slide"
    }
   },
   "source": [
    "## <font color=\"blue\">More features planned</font>\n",
    "\n",
    "- Vector space morphisms,\n",
    "- Algorithmic improvements,\n",
    "- more efficient framework using Lenstra/Allombert embedding algorithm as building block"
   ]
  },
  {
   "cell_type": "markdown",
   "metadata": {
    "slideshow": {
     "slide_type": "slide"
    }
   },
   "source": [
    "# <center> Thank you! </center>"
   ]
  }
 ],
 "metadata": {
  "celltoolbar": "Slideshow",
  "kernelspec": {
   "display_name": "Julia 0.6.1",
   "language": "julia",
   "name": "julia-0.6"
  },
  "language_info": {
   "file_extension": ".jl",
   "mimetype": "application/julia",
   "name": "julia",
   "version": "0.6.1"
  }
 },
 "nbformat": 4,
 "nbformat_minor": 2
}
