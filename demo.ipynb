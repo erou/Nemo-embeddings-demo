{
 "cells": [
  {
   "cell_type": "markdown",
   "metadata": {
    "slideshow": {
     "slide_type": "slide"
    }
   },
   "source": [
    "# Lattices of compatibly embedded finite fields in Nemo/Flint\n",
    "\n",
    "<center>Luca De Feo, Hugues Randriambololona, Édouard Rousseau</center>\n",
    "\n",
    "*Demonstrating the newly implemented lattices of compatibly embedded\n",
    "finite fields in Nemo.*\n",
    "\n",
    "\n",
    "<center> ![](img/issac.png) </center>"
   ]
  },
  {
   "cell_type": "markdown",
   "metadata": {
    "slideshow": {
     "slide_type": "slide"
    }
   },
   "source": [
    "## <font color=\"blue\">Jupyter</font>\n",
    "\n",
    "* The slides are available as a *Jupyter Notebook* on *Binder* at [https://github.com/erou/Nemo-embeddings-demo](https://github.com/erou/Nemo-embeddings-demo)\n",
    "* Press `Alt + r` to enter/quit slide mode\n",
    "* every cells are interactive so you can **play around**"
   ]
  },
  {
   "cell_type": "code",
   "execution_count": 30,
   "metadata": {
    "slideshow": {
     "slide_type": "fragment"
    }
   },
   "outputs": [
    {
     "data": {
      "text/plain": [
       "1023.0"
      ]
     },
     "execution_count": 30,
     "metadata": {},
     "output_type": "execute_result"
    }
   ],
   "source": [
    "2^10 + cos(pi)"
   ]
  },
  {
   "cell_type": "markdown",
   "metadata": {
    "slideshow": {
     "slide_type": "slide"
    }
   },
   "source": [
    "## <font color=\"blue\">Nemo and Flint</font>\n",
    "\n",
    "<center>![](img/julia.svg)</center>\n",
    "\n",
    "* [Nemo](http://nemocas.org/) is a computer algebra package for the [Julia](https://julialang.org/) programming language\n",
    "    * among many things, it includes a Flint wrapper\n",
    "* [Flint](http://flintlib.org/) is a number theory library for the C programming language"
   ]
  },
  {
   "cell_type": "markdown",
   "metadata": {
    "slideshow": {
     "slide_type": "subslide"
    }
   },
   "source": [
    "## <font color=\"blue\">Nemo and Flint</font>"
   ]
  },
  {
   "cell_type": "code",
   "execution_count": 31,
   "metadata": {
    "slideshow": {
     "slide_type": "fragment"
    }
   },
   "outputs": [],
   "source": [
    "using Nemo"
   ]
  },
  {
   "cell_type": "code",
   "execution_count": 32,
   "metadata": {
    "slideshow": {
     "slide_type": "fragment"
    }
   },
   "outputs": [
    {
     "data": {
      "text/plain": [
       "T^3+(2*x^3+8*x^2+12*x+6)*T^2+(x^2+3*x+7)*T+(10*x^2+8*x+5)"
      ]
     },
     "execution_count": 32,
     "metadata": {},
     "output_type": "execute_result"
    }
   ],
   "source": [
    "p = 13\n",
    "k, x = FiniteField(p, 4, \"x\")\n",
    "R, T = PolynomialRing(k, \"T\")\n",
    "P = rand(R, 3)"
   ]
  },
  {
   "cell_type": "markdown",
   "metadata": {
    "slideshow": {
     "slide_type": "slide"
    }
   },
   "source": [
    "## <font color=\"blue\">The embedding problem</font>\n",
    "\n",
    "* $f$ irreducible polynomial of degree $m$ in $\\mathbb F_p[X]$\n",
    "* $g$ irreducible polynomial of degree $n$ in $\\mathbb F_p[Y]$\n",
    "* $m\\;|\\;n$\n",
    "* $E = \\mathbb F_p[X]/(f(X))$\n",
    "* $F = \\mathbb F_p[Y]/(g(Y))$\n",
    "\n",
    "<center> $E\\cong \\mathbb F_{p^m} \\hookrightarrow F\\cong \\mathbb F_{p^n}$ </center>\n",
    "\n",
    "* <font color=\"red\"> **Embedding problem:** </font> how to compute the embedding from $E$ to $F$ ?"
   ]
  },
  {
   "cell_type": "markdown",
   "metadata": {
    "slideshow": {
     "slide_type": "slide"
    }
   },
   "source": [
    "## <font color=\"blue\">Description and evaluation</font>\n",
    "\n",
    "<font color=\"red\"> **Two steps:**</font>\n",
    "* <font color=#9966ff>Description:</font> find $\\alpha_1, \\alpha_2$ such that:\n",
    "    * $E = \\mathbb F_p(\\alpha_1)$\n",
    "    * *there exists* an embedding $\\phi:E\\to F$ mapping $\\alpha_1\\to\\alpha_2$\n",
    "* <font color=#9966ff>Evaluation:</font> \n",
    "    * Compute $\\phi(\\gamma)\\in F$ for $\\gamma\\in E$\n",
    "    * Test if $\\delta\\in\\phi(E)$ for $\\delta\\in F$\n",
    "    * If $\\delta\\in\\phi(E)$, compute $\\phi^{-1}(\\delta)\\in E$"
   ]
  },
  {
   "cell_type": "markdown",
   "metadata": {
    "slideshow": {
     "slide_type": "slide"
    }
   },
   "source": [
    "## <font color=\"blue\">Description - naive algorithm</font>\n",
    "\n",
    "<font color=\"red\">**Context:**</font>\n",
    "* $E = \\mathbb{F}_p[X]/(f)$\n",
    "* $F=\\mathbb{F}_p[Y]/(g)$\n",
    "\n",
    "<font color=\"red\">**Algorithm:**</font>\n",
    "* Find a root $\\rho$ of $f$ in $F$\n",
    "* $\\alpha_1 = \\overline X$\n",
    "* $\\alpha_2 = \\rho$\n"
   ]
  },
  {
   "cell_type": "markdown",
   "metadata": {
    "slideshow": {
     "slide_type": "subslide"
    }
   },
   "source": [
    "## <font color=\"blue\">Description - naive algorithm</font>\n",
    "\n",
    "Compute an embedding with `embed`."
   ]
  },
  {
   "cell_type": "code",
   "execution_count": 33,
   "metadata": {
    "slideshow": {
     "slide_type": "-"
    }
   },
   "outputs": [
    {
     "data": {
      "text/plain": []
     },
     "execution_count": 33,
     "metadata": {},
     "output_type": "execute_result"
    }
   ],
   "source": [
    "E, x = FiniteField(13, 6, \"x\")\n",
    "F, y = FiniteField(13, 12, \"y\")\n",
    "ϕ = embed(E, F)"
   ]
  },
  {
   "cell_type": "markdown",
   "metadata": {
    "slideshow": {
     "slide_type": "fragment"
    }
   },
   "source": [
    "and evaluate it"
   ]
  },
  {
   "cell_type": "code",
   "execution_count": 34,
   "metadata": {
    "slideshow": {
     "slide_type": "-"
    }
   },
   "outputs": [
    {
     "name": "stdout",
     "output_type": "stream",
     "text": [
      "Morphism from Finite field of degree 6 over F_13\n",
      "to Finite field of degree 12 over F_13"
     ]
    },
    {
     "data": {
      "text/plain": [
       "6*y^11+8*y^10+8*y^9+9*y^8+9*y^7+9*y^6+3*y^5+y^4+7*y^3+8*y^2+4"
      ]
     },
     "execution_count": 34,
     "metadata": {},
     "output_type": "execute_result"
    }
   ],
   "source": [
    "ϕ(x)"
   ]
  },
  {
   "cell_type": "markdown",
   "metadata": {
    "slideshow": {
     "slide_type": "slide"
    }
   },
   "source": [
    "## <font color=\"blue\">Some sanity checks</font>\n",
    "\n",
    "We can check that `ϕ` is indeed a morphism:"
   ]
  },
  {
   "cell_type": "code",
   "execution_count": 35,
   "metadata": {
    "slideshow": {
     "slide_type": "-"
    }
   },
   "outputs": [
    {
     "data": {
      "text/plain": [
       "true"
      ]
     },
     "execution_count": 35,
     "metadata": {},
     "output_type": "execute_result"
    }
   ],
   "source": [
    "a = rand(E)\n",
    "b = rand(E)\n",
    "ϕ(a^2 + b^7) == ϕ(a)^2 + ϕ(b)^7"
   ]
  },
  {
   "cell_type": "markdown",
   "metadata": {
    "slideshow": {
     "slide_type": "fragment"
    }
   },
   "source": [
    "and that the image of ϕ is the subfield of $F$ with $13^6$ elements"
   ]
  },
  {
   "cell_type": "code",
   "execution_count": 36,
   "metadata": {},
   "outputs": [
    {
     "data": {
      "text/plain": [
       "(true, true)"
      ]
     },
     "execution_count": 36,
     "metadata": {},
     "output_type": "execute_result"
    }
   ],
   "source": [
    "ϕ(a)^(13^6) == ϕ(a), ϕ(b)^(13^6) == ϕ(b)"
   ]
  },
  {
   "cell_type": "markdown",
   "metadata": {
    "slideshow": {
     "slide_type": "slide"
    }
   },
   "source": [
    "## <font color=\"blue\">The end ?</font>\n",
    "\n",
    "<center>![](img/end.png)</center>"
   ]
  },
  {
   "cell_type": "markdown",
   "metadata": {
    "slideshow": {
     "slide_type": "fragment"
    }
   },
   "source": [
    "# <center><font color=\"red\">No.</font></center>"
   ]
  },
  {
   "cell_type": "markdown",
   "metadata": {
    "slideshow": {
     "slide_type": "slide"
    }
   },
   "source": [
    "## <font color=\"blue\">The compatibility problem</font>\n",
    "\n",
    "Assume the user wants to use extensions of $\\mathbb F_p$:\n",
    "\n",
    "<center>![](img/extensions.png)</center>"
   ]
  },
  {
   "cell_type": "markdown",
   "metadata": {
    "slideshow": {
     "slide_type": "subslide"
    }
   },
   "source": [
    "## <font color=\"blue\">The compatibility problem</font>\n",
    "\n",
    "<font color=\"red\">**Context:**</font>\n",
    "* $E$, $F$, $G$ fields\n",
    "* $E$ subfield of $F$ and $F$ subfield of $G$\n",
    "* $\\phi_{E\\hookrightarrow F}$, $\\phi_{F\\hookrightarrow G}$, $\\phi_{E\\hookrightarrow G}$ embeddings\n",
    "\n",
    "<center>\n",
    "![](img/compatibility.png)\n",
    "<font color=\"red\">$\\phi_{F\\hookrightarrow G}\\circ\\phi_{E\\hookrightarrow F}\\overset{?}{=}\\phi_{E\\hookrightarrow G}$</font>\n",
    "</center>"
   ]
  },
  {
   "cell_type": "markdown",
   "metadata": {
    "slideshow": {
     "slide_type": "subslide"
    }
   },
   "source": [
    "## <font color=\"blue\">The compatibility problem</font>\n",
    "\n",
    "We define some finite fields $E = \\mathbb F_{p^2}$, $F = \\mathbb F_{p^4}$ and $G = \\mathbb F_{p^8}$."
   ]
  },
  {
   "cell_type": "code",
   "execution_count": 37,
   "metadata": {
    "slideshow": {
     "slide_type": "-"
    }
   },
   "outputs": [
    {
     "data": {
      "text/plain": [
       "(Finite field of degree 8 over F_5, x8)"
      ]
     },
     "execution_count": 37,
     "metadata": {},
     "output_type": "execute_result"
    }
   ],
   "source": [
    "p = 5\n",
    "\n",
    "E, x2 = FiniteField(p, 2, \"x2\")\n",
    "F, x4 = FiniteField(p, 4, \"x4\")\n",
    "G, x8 = FiniteField(p, 8, \"x8\")"
   ]
  },
  {
   "cell_type": "markdown",
   "metadata": {
    "slideshow": {
     "slide_type": "fragment"
    }
   },
   "source": [
    "and we compute the embeddings $\\phi_{E\\hookrightarrow F}$, $\\phi_{F\\hookrightarrow G}$, $\\phi_{E\\hookrightarrow G}$"
   ]
  },
  {
   "cell_type": "code",
   "execution_count": 38,
   "metadata": {
    "slideshow": {
     "slide_type": "-"
    }
   },
   "outputs": [
    {
     "data": {
      "text/plain": []
     },
     "execution_count": 38,
     "metadata": {},
     "output_type": "execute_result"
    }
   ],
   "source": [
    "ϕE_F = embed(E, F)\n",
    "ϕE_G = embed(E, G)\n",
    "ϕF_G = embed(F, G)"
   ]
  },
  {
   "cell_type": "markdown",
   "metadata": {
    "slideshow": {
     "slide_type": "subslide"
    }
   },
   "source": [
    "## <font color=\"blue\">The compatibility problem</font>\n",
    "\n",
    "\n",
    "<font color=\"red\">**Morphisms are compatible!**</font>"
   ]
  },
  {
   "cell_type": "code",
   "execution_count": 39,
   "metadata": {
    "slideshow": {
     "slide_type": "-"
    }
   },
   "outputs": [
    {
     "name": "stdout",
     "output_type": "stream",
     "text": [
      "Morphism from Finite field of degree 4 over F_5\n",
      "to Finite field of degree 8 over F_5"
     ]
    },
    {
     "data": {
      "text/plain": [
       "true"
      ]
     },
     "execution_count": 39,
     "metadata": {},
     "output_type": "execute_result"
    }
   ],
   "source": [
    "a = rand(E)\n",
    "ϕE_G(a) == ϕF_G(ϕE_F(a))"
   ]
  },
  {
   "cell_type": "markdown",
   "metadata": {
    "slideshow": {
     "slide_type": "slide"
    }
   },
   "source": [
    "## <font color=\"blue\">The compatibility problem II</font>\n",
    "\n",
    "<center>![](img/compatibility2.png)\n",
    "<font color=\"red\">$\\phi_{G\\hookrightarrow H}\\circ\\phi_{E\\hookrightarrow G}\\overset{?}{=}\\phi_{F\\hookrightarrow H}\\circ\\phi_{E\\hookrightarrow F}$</font>\n",
    "</center>"
   ]
  },
  {
   "cell_type": "markdown",
   "metadata": {
    "slideshow": {
     "slide_type": "subslide"
    }
   },
   "source": [
    "## <font color=\"blue\">The compatibility problem II</font>\n",
    "\n",
    "We create new finite fields"
   ]
  },
  {
   "cell_type": "code",
   "execution_count": 40,
   "metadata": {
    "slideshow": {
     "slide_type": "-"
    }
   },
   "outputs": [
    {
     "data": {
      "text/plain": [
       "(Finite field of degree 12 over F_5, x12)"
      ]
     },
     "execution_count": 40,
     "metadata": {},
     "output_type": "execute_result"
    }
   ],
   "source": [
    "G, x6 = FiniteField(p, 6, \"x6\")\n",
    "H, x12 = FiniteField(p, 12, \"x12\")"
   ]
  },
  {
   "cell_type": "markdown",
   "metadata": {
    "slideshow": {
     "slide_type": "fragment"
    }
   },
   "source": [
    "and embeddings between them"
   ]
  },
  {
   "cell_type": "code",
   "execution_count": 41,
   "metadata": {
    "slideshow": {
     "slide_type": "-"
    }
   },
   "outputs": [
    {
     "data": {
      "text/plain": []
     },
     "execution_count": 41,
     "metadata": {},
     "output_type": "execute_result"
    },
    {
     "name": "stdout",
     "output_type": "stream",
     "text": [
      "Morphism from Finite field of degree 6 over F_5\n",
      "to Finite field of degree 12 over F_5"
     ]
    }
   ],
   "source": [
    "ϕE_G = embed(E, G)\n",
    "ϕF_H = embed(F, H)\n",
    "ϕG_H = embed(G, H)"
   ]
  },
  {
   "cell_type": "markdown",
   "metadata": {
    "slideshow": {
     "slide_type": "subslide"
    }
   },
   "source": [
    "## <font color=\"blue\">The compatibility problem II</font>\n",
    "\n",
    "\n",
    "<font color=\"red\">**Morphisms are still compatible!**</font>"
   ]
  },
  {
   "cell_type": "code",
   "execution_count": 42,
   "metadata": {
    "slideshow": {
     "slide_type": "-"
    }
   },
   "outputs": [
    {
     "data": {
      "text/plain": [
       "true"
      ]
     },
     "execution_count": 42,
     "metadata": {},
     "output_type": "execute_result"
    }
   ],
   "source": [
    "a = rand(E)\n",
    "ϕG_H(ϕE_G(a)) == ϕF_H(ϕE_F(a))"
   ]
  },
  {
   "cell_type": "markdown",
   "metadata": {
    "slideshow": {
     "slide_type": "slide"
    }
   },
   "source": [
    "## <font color=\"blue\">Implicit conversion</font>\n",
    "\n",
    "We do not need to explicitly call ``embed``. Standard object-based conversion also works."
   ]
  },
  {
   "cell_type": "code",
   "execution_count": 16,
   "metadata": {
    "slideshow": {
     "slide_type": "-"
    }
   },
   "outputs": [
    {
     "data": {
      "text/plain": [
       "(Finite field of degree 24 over F_5, x24)"
      ]
     },
     "execution_count": 16,
     "metadata": {},
     "output_type": "execute_result"
    }
   ],
   "source": [
    "k3, x3 = FiniteField(p, 3, \"x3\")\n",
    "k24, x24 = FiniteField(p, 24, \"x24\")"
   ]
  },
  {
   "cell_type": "code",
   "execution_count": 17,
   "metadata": {
    "slideshow": {
     "slide_type": "-"
    }
   },
   "outputs": [
    {
     "data": {
      "text/plain": [
       "3*x24^23+4*x24^22+3*x24^20+4*x24^19+3*x24^18+3*x24^17+2*x24^14+4*x24^12+x24^11+4*x24^10+2*x24^9+4*x24^8+3*x24^6+3*x24^5+2*x24^4+4*x24^3+x24^2+1"
      ]
     },
     "execution_count": 17,
     "metadata": {},
     "output_type": "execute_result"
    }
   ],
   "source": [
    "z = k24(x3)"
   ]
  },
  {
   "cell_type": "code",
   "execution_count": 18,
   "metadata": {
    "slideshow": {
     "slide_type": "-"
    }
   },
   "outputs": [
    {
     "data": {
      "text/plain": [
       "true"
      ]
     },
     "execution_count": 18,
     "metadata": {},
     "output_type": "execute_result"
    }
   ],
   "source": [
    "z^(p^3) == z"
   ]
  },
  {
   "cell_type": "code",
   "execution_count": 19,
   "metadata": {},
   "outputs": [
    {
     "data": {
      "text/plain": [
       "x3"
      ]
     },
     "execution_count": 19,
     "metadata": {},
     "output_type": "execute_result"
    }
   ],
   "source": [
    "k3(z)"
   ]
  },
  {
   "cell_type": "markdown",
   "metadata": {
    "slideshow": {
     "slide_type": "slide"
    }
   },
   "source": [
    "## <font color=\"blue\">Sections</font>\n",
    "\n",
    "We can also compute sections of morphisms."
   ]
  },
  {
   "cell_type": "code",
   "execution_count": 20,
   "metadata": {},
   "outputs": [
    {
     "data": {
      "text/plain": [
       "(Finite field of degree 21 over F_5, x21)"
      ]
     },
     "execution_count": 20,
     "metadata": {},
     "output_type": "execute_result"
    }
   ],
   "source": [
    "k7, x7 = FiniteField(p, 7, \"x7\")\n",
    "k21, x21 = FiniteField(p, 21, \"x21\")"
   ]
  },
  {
   "cell_type": "code",
   "execution_count": 44,
   "metadata": {},
   "outputs": [
    {
     "data": {
      "text/plain": []
     },
     "execution_count": 44,
     "metadata": {},
     "output_type": "execute_result"
    },
    {
     "name": "stdout",
     "output_type": "stream",
     "text": [
      "Morphism from Finite field of degree 7 over F_5\n",
      "to Finite field of degree 21 over F_5"
     ]
    }
   ],
   "source": [
    "f7_21 = embed(k7, k21)"
   ]
  },
  {
   "cell_type": "code",
   "execution_count": 45,
   "metadata": {},
   "outputs": [
    {
     "data": {
      "text/plain": []
     },
     "execution_count": 45,
     "metadata": {},
     "output_type": "execute_result"
    },
    {
     "name": "stdout",
     "output_type": "stream",
     "text": [
      "Section from Finite field of degree 21 over F_5\n",
      "to Finite field of degree 7 over F_5"
     ]
    }
   ],
   "source": [
    "s21_7 = section(f7_21)"
   ]
  },
  {
   "cell_type": "markdown",
   "metadata": {
    "slideshow": {
     "slide_type": "subslide"
    }
   },
   "source": [
    "## <font color=\"blue\">Sections</font>\n",
    "\n",
    "Sections give the preimage of an element if it is in the codomain of the embedding"
   ]
  },
  {
   "cell_type": "code",
   "execution_count": 46,
   "metadata": {
    "slideshow": {
     "slide_type": "-"
    }
   },
   "outputs": [
    {
     "data": {
      "text/plain": [
       "true"
      ]
     },
     "execution_count": 46,
     "metadata": {},
     "output_type": "execute_result"
    }
   ],
   "source": [
    "a = rand(k7)\n",
    "s21_7(f7_21(a)) == a"
   ]
  },
  {
   "cell_type": "markdown",
   "metadata": {
    "slideshow": {
     "slide_type": "fragment"
    }
   },
   "source": [
    "And throw an error otherwise"
   ]
  },
  {
   "cell_type": "code",
   "execution_count": 24,
   "metadata": {},
   "outputs": [
    {
     "ename": "LoadError",
     "evalue": "\u001b[91mElement not in the domain\u001b[39m",
     "output_type": "error",
     "traceback": [
      "\u001b[91mElement not in the domain\u001b[39m",
      "",
      "Stacktrace:",
      " [1] \u001b[1m(::Nemo.FinFieldSection{Nemo.FqNmodFiniteField})\u001b[22m\u001b[22m\u001b[1m(\u001b[22m\u001b[22m::Nemo.fq_nmod\u001b[1m)\u001b[22m\u001b[22m at \u001b[1m/home/erou/.julia/v0.6/Nemo/src/FinFieldsTypes.jl:49\u001b[22m\u001b[22m"
     ]
    }
   ],
   "source": [
    "s21_7(x21)"
   ]
  },
  {
   "cell_type": "markdown",
   "metadata": {
    "slideshow": {
     "slide_type": "subslide"
    }
   },
   "source": [
    "## <font color=\"blue\">Sections</font>\n",
    "\n",
    "\n",
    "This can also be called implicitly"
   ]
  },
  {
   "cell_type": "code",
   "execution_count": 47,
   "metadata": {
    "slideshow": {
     "slide_type": "-"
    }
   },
   "outputs": [
    {
     "data": {
      "text/plain": [
       "x7"
      ]
     },
     "execution_count": 47,
     "metadata": {},
     "output_type": "execute_result"
    }
   ],
   "source": [
    "k7(k21(x7))"
   ]
  },
  {
   "cell_type": "code",
   "execution_count": 26,
   "metadata": {},
   "outputs": [
    {
     "ename": "LoadError",
     "evalue": "\u001b[91mElement not in the domain\u001b[39m",
     "output_type": "error",
     "traceback": [
      "\u001b[91mElement not in the domain\u001b[39m",
      "",
      "Stacktrace:",
      " [1] \u001b[1m(::Nemo.FinFieldSection{Nemo.FqNmodFiniteField})\u001b[22m\u001b[22m\u001b[1m(\u001b[22m\u001b[22m::Nemo.fq_nmod\u001b[1m)\u001b[22m\u001b[22m at \u001b[1m/home/erou/.julia/v0.6/Nemo/src/FinFieldsTypes.jl:49\u001b[22m\u001b[22m",
      " [2] \u001b[1m(::Nemo.FqNmodFiniteField)\u001b[22m\u001b[22m\u001b[1m(\u001b[22m\u001b[22m::Nemo.fq_nmod\u001b[1m)\u001b[22m\u001b[22m at \u001b[1m/home/erou/.julia/v0.6/Nemo/src/flint/fq_nmod.jl:457\u001b[22m\u001b[22m"
     ]
    }
   ],
   "source": [
    "k7(x21)"
   ]
  },
  {
   "cell_type": "markdown",
   "metadata": {},
   "source": [
    "## More features planned\n",
    "\n",
    "- Sections (inverse morphisms),\n",
    "- Vector space morphisms,\n",
    "- Algorithmic improvements."
   ]
  },
  {
   "cell_type": "code",
   "execution_count": null,
   "metadata": {},
   "outputs": [],
   "source": []
  },
  {
   "cell_type": "code",
   "execution_count": null,
   "metadata": {
    "collapsed": true
   },
   "outputs": [],
   "source": []
  }
 ],
 "metadata": {
  "celltoolbar": "Slideshow",
  "kernelspec": {
   "display_name": "Julia 0.6.1",
   "language": "julia",
   "name": "julia-0.6"
  },
  "language_info": {
   "file_extension": ".jl",
   "mimetype": "application/julia",
   "name": "julia",
   "version": "0.6.1"
  }
 },
 "nbformat": 4,
 "nbformat_minor": 2
}
